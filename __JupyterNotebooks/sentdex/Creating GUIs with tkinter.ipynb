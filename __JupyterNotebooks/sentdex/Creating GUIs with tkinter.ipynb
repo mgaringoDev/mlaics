{
 "cells": [
  {
   "cell_type": "markdown",
   "metadata": {
    "cellType": "FrontMatter"
   },
   "source": [
    "---\n",
    "title: tkinter GUIs\n",
    "tags: [jupyter]\n",
    "keywords: course, sentdex, python3\n",
    "summary: \"Creating GUI's with tkinter.  There is a larger playlist to doing this but this is just a short introduction about how you can use it.\"\n",
    "sidebar: sentdex_sidebar\n",
    "permalink: __AutoGenThis__\n",
    "notebookfilename:  __AutoGenThis__\n",
    "---"
   ]
  },
  {
   "cell_type": "code",
   "execution_count": 16,
   "metadata": {},
   "outputs": [],
   "source": [
    "from tkinter import *\n",
    "from PIL import Image, ImageTk"
   ]
  },
  {
   "cell_type": "markdown",
   "metadata": {},
   "source": [
    "# Creating the window"
   ]
  },
  {
   "cell_type": "markdown",
   "metadata": {},
   "source": [
    "**Frame** is basically the window"
   ]
  },
  {
   "cell_type": "code",
   "execution_count": 5,
   "metadata": {},
   "outputs": [],
   "source": [
    "class Window(Frame):\n",
    "    \n",
    "    # we need to initialize\n",
    "    def __init__(self,master=None):\n",
    "        Frame.__init__(self,master)\n",
    "        \n",
    "        # we are calling the the master window\n",
    "        self.master = master       "
   ]
  },
  {
   "cell_type": "code",
   "execution_count": 7,
   "metadata": {},
   "outputs": [],
   "source": [
    "root = Tk()\n",
    "app = Window(root)\n",
    "\n",
    "root.mainloop()"
   ]
  },
  {
   "cell_type": "markdown",
   "metadata": {},
   "source": [
    "# Creating buttons"
   ]
  },
  {
   "cell_type": "code",
   "execution_count": 4,
   "metadata": {},
   "outputs": [],
   "source": [
    "class Window(Frame):\n",
    "    \n",
    "    # we need to initialize\n",
    "    def __init__(self,master=None):\n",
    "        Frame.__init__(self,master)\n",
    "        \n",
    "        # we are calling the the master window\n",
    "        self.master = master  \n",
    "        \n",
    "        #init some stuff        \n",
    "        self.init_window()\n",
    "    \n",
    "    def init_window(self):\n",
    "        \n",
    "        self.master.title(\"GUI Title\")\n",
    "        #adjust the size as needed with expand and we are filling the window\n",
    "        self.pack(fill=BOTH, expand=1)\n",
    "        \n",
    "        quitButton = Button(self,text='QUIT',command=self.client_exit)\n",
    "        \n",
    "        # this will put it in the upper left\n",
    "        quitButton.place(x=0,y=0)\n",
    "    \n",
    "    def client_exit(self):\n",
    "        # just add some functionality here\n",
    "        exit()\n",
    "        "
   ]
  },
  {
   "cell_type": "code",
   "execution_count": 5,
   "metadata": {},
   "outputs": [],
   "source": [
    "root = Tk()\n",
    "root.geometry(\"400x300\")\n",
    "app = Window(root)\n",
    "\n",
    "root.mainloop()"
   ]
  },
  {
   "cell_type": "markdown",
   "metadata": {},
   "source": [
    "# Creating Menus"
   ]
  },
  {
   "cell_type": "code",
   "execution_count": 13,
   "metadata": {},
   "outputs": [],
   "source": [
    "class Window(Frame):\n",
    "    \n",
    "    # we need to initialize\n",
    "    def __init__(self,master=None):\n",
    "        Frame.__init__(self,master)\n",
    "        \n",
    "        # we are calling the the master window\n",
    "        self.master = master  \n",
    "        \n",
    "        #init some stuff        \n",
    "        self.init_window()\n",
    "    \n",
    "    def init_window(self):\n",
    "        \n",
    "        self.master.title(\"GUI Title\")\n",
    "        #adjust the size as needed with expand and we are filling the window\n",
    "        self.pack(fill=BOTH, expand=1)\n",
    "        \n",
    "        # define the menu and add it to master\n",
    "        menu = Menu(self.master)\n",
    "        #add the menu to the master frame\n",
    "        self.master.config(menu=menu)\n",
    "        \n",
    "        # create a file menu and add it master list and add an exit to that menu\n",
    "        file = Menu(menu)\n",
    "        file.add_command(label='Save',command=self.client_exit)\n",
    "        file.add_command(label='Exit',command=self.client_exit)        \n",
    "        menu.add_cascade(label='File',menu=file)\n",
    "        \n",
    "        ## --- now adding edit undo\n",
    "        edit = Menu(menu)\n",
    "        edit.add_command(label=\"Undo\")\n",
    "        menu.add_cascade(label='Edit',menu=edit)\n",
    "        \n",
    "    def client_exit(self):\n",
    "        # just add some functionality here\n",
    "        exit()  "
   ]
  },
  {
   "cell_type": "code",
   "execution_count": 14,
   "metadata": {},
   "outputs": [],
   "source": [
    "root = Tk()\n",
    "root.geometry(\"400x300\")\n",
    "app = Window(root)\n",
    "\n",
    "root.mainloop()"
   ]
  },
  {
   "cell_type": "markdown",
   "metadata": {},
   "source": [
    "# Displaying Images and Text"
   ]
  },
  {
   "cell_type": "code",
   "execution_count": 19,
   "metadata": {},
   "outputs": [],
   "source": [
    "class Window(Frame):\n",
    "    \n",
    "    # we need to initialize\n",
    "    def __init__(self,master=None):\n",
    "        Frame.__init__(self,master)\n",
    "        \n",
    "        # we are calling the the master window\n",
    "        self.master = master  \n",
    "        \n",
    "        #init some stuff        \n",
    "        self.init_window()\n",
    "    \n",
    "    def init_window(self):\n",
    "        \n",
    "        self.master.title(\"GUI Title\")\n",
    "        #adjust the size as needed with expand and we are filling the window\n",
    "        self.pack(fill=BOTH, expand=1)\n",
    "        \n",
    "        # define the menu and add it to master\n",
    "        menu = Menu(self.master)\n",
    "        #add the menu to the master frame\n",
    "        self.master.config(menu=menu)\n",
    "        \n",
    "        # create a file menu and add it master list and add an exit to that menu\n",
    "        file = Menu(menu)\n",
    "        file.add_command(label='Save',command=self.client_exit)\n",
    "        file.add_command(label='Exit',command=self.client_exit)        \n",
    "        menu.add_cascade(label='File',menu=file)\n",
    "        \n",
    "        ## --- now adding edit undo\n",
    "        # NOTE THAT THE COMMAND DOES NOT HAVE () \n",
    "        # IF YOU ADD THOSE THEN IT WILL EXCECUTE WHEN THE WINDOW IS MADE\n",
    "        edit = Menu(menu)\n",
    "        edit.add_command(label=\"Show Image\",command = self.showImage)\n",
    "        edit.add_command(label=\"Show Text\",command = self.showText)\n",
    "        menu.add_cascade(label='Edit',menu=edit)\n",
    "    \n",
    "    def showImage(self):\n",
    "        # open the image\n",
    "        load = Image.open('img\\pyImage.png')\n",
    "        # we load the image into a renderer\n",
    "        render = ImageTk.PhotoImage(load)\n",
    "        \n",
    "        # this is the tkinter stuff\n",
    "        # we load the image in a label and we place it on the top left hand corner \n",
    "        # of the window\n",
    "        img = Label(self,image=render)\n",
    "        img.image = render\n",
    "        img.place(x=0,y=0)\n",
    "        \n",
    "    def showText(self):\n",
    "        text = Label(self,text=\"I AM TEXT\")\n",
    "        # this adds the text\n",
    "        text.pack()\n",
    "        \n",
    "    def client_exit(self):\n",
    "        # just add some functionality here\n",
    "        exit()  "
   ]
  },
  {
   "cell_type": "code",
   "execution_count": 21,
   "metadata": {},
   "outputs": [],
   "source": [
    "root = Tk()\n",
    "root.geometry(\"400x300\")\n",
    "app = Window(root)\n",
    "\n",
    "root.mainloop()"
   ]
  },
  {
   "cell_type": "markdown",
   "metadata": {},
   "source": [
    "# Putting Everything Together"
   ]
  },
  {
   "cell_type": "markdown",
   "metadata": {},
   "source": [
    "If you take the above and place it in a ```.py``` file and run it, you get a standalone GUI.  This ```.py``` can look like this:"
   ]
  },
  {
   "cell_type": "markdown",
   "metadata": {},
   "source": [
    "```python\n",
    "from tkinter import *\n",
    "from PIL import Image, ImageTk\n",
    "\n",
    "class Window(Frame):\n",
    "    \n",
    "    # we need to initialize\n",
    "    def __init__(self,master=None):\n",
    "        Frame.__init__(self,master)\n",
    "        \n",
    "        # we are calling the the master window\n",
    "        self.master = master  \n",
    "        \n",
    "        #init some stuff        \n",
    "        self.init_window()\n",
    "    \n",
    "    def init_window(self):\n",
    "        \n",
    "        self.master.title(\"GUI Title\")\n",
    "        #adjust the size as needed with expand and we are filling the window\n",
    "        self.pack(fill=BOTH, expand=1)\n",
    "        \n",
    "        # define the menu and add it to master\n",
    "        menu = Menu(self.master)\n",
    "        #add the menu to the master frame\n",
    "        self.master.config(menu=menu)\n",
    "        \n",
    "        # create a file menu and add it master list and add an exit to that menu\n",
    "        file = Menu(menu)\n",
    "        file.add_command(label='Save',command=self.client_exit)\n",
    "        file.add_command(label='Exit',command=self.client_exit)        \n",
    "        menu.add_cascade(label='File',menu=file)\n",
    "        \n",
    "        ## --- now adding edit undo\n",
    "        # NOTE THAT THE COMMAND DOES NOT HAVE () \n",
    "        # IF YOU ADD THOSE THEN IT WILL EXCECUTE WHEN THE WINDOW IS MADE\n",
    "        edit = Menu(menu)\n",
    "        edit.add_command(label=\"Show Image\",command = self.showImage)\n",
    "        edit.add_command(label=\"Show Text\",command = self.showText)\n",
    "        menu.add_cascade(label='Edit',menu=edit)\n",
    "    \n",
    "    def showImage(self):\n",
    "        # open the image\n",
    "        load = Image.open('img\\pyImage.png')\n",
    "        # we load the image into a renderer\n",
    "        render = ImageTk.PhotoImage(load)\n",
    "        \n",
    "        # this is the tkinter stuff\n",
    "        # we load the image in a label and we place it on the top left hand corner \n",
    "        # of the window\n",
    "        img = Label(self,image=render)\n",
    "        img.image = render\n",
    "        img.place(x=0,y=0)\n",
    "        \n",
    "    def showText(self):\n",
    "        text = Label(self,text=\"I AM TEXT\")\n",
    "        # this adds the text\n",
    "        text.pack()\n",
    "        \n",
    "    def client_exit(self):\n",
    "        # just add some functionality here\n",
    "        exit()  \n",
    "\n",
    "\n",
    "root = Tk()\n",
    "root.geometry(\"400x300\")\n",
    "app = Window(root)\n",
    "\n",
    "root.mainloop()\n",
    "```"
   ]
  },
  {
   "cell_type": "code",
   "execution_count": null,
   "metadata": {},
   "outputs": [],
   "source": []
  }
 ],
 "metadata": {
  "kernelspec": {
   "display_name": "Python 3",
   "language": "python",
   "name": "python3"
  },
  "language_info": {
   "codemirror_mode": {
    "name": "ipython",
    "version": 3
   },
   "file_extension": ".py",
   "mimetype": "text/x-python",
   "name": "python",
   "nbconvert_exporter": "python",
   "pygments_lexer": "ipython3",
   "version": "3.6.6"
  },
  "latex_envs": {
   "LaTeX_envs_menu_present": true,
   "autoclose": false,
   "autocomplete": true,
   "bibliofile": "biblio.bib",
   "cite_by": "apalike",
   "current_citInitial": 1,
   "eqLabelWithNumbers": true,
   "eqNumInitial": 1,
   "hotkeys": {
    "equation": "Ctrl-E",
    "itemize": "Ctrl-I"
   },
   "labels_anchors": false,
   "latex_user_defs": false,
   "report_style_numbering": false,
   "user_envs_cfg": false
  }
 },
 "nbformat": 4,
 "nbformat_minor": 2
}
