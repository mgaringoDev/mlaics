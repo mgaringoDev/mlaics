{
 "cells": [
  {
   "cell_type": "markdown",
   "metadata": {},
   "source": [
    "---\n",
    "title: While Loops\n",
    "tags: [jupyter]\n",
    "keywords: course, sentdex, python3\n",
    "summary: \"So far this is the same as py2.\"\n",
    "sidebar: sentdex_sidebar\n",
    "permalink: __AutoGenThis__\n",
    "notebookfilename:  __AutoGenThis__\n",
    "---"
   ]
  },
  {
   "cell_type": "code",
   "execution_count": 4,
   "metadata": {},
   "outputs": [
    {
     "name": "stdout",
     "output_type": "stream",
     "text": [
      "Current condition: 2\n",
      "Current condition: 3\n",
      "Current condition: 4\n",
      "Current condition: 5\n",
      "Current condition: 6\n",
      "Current condition: 7\n",
      "Current condition: 8\n",
      "Current condition: 9\n"
     ]
    }
   ],
   "source": [
    "condition = 2\n",
    "\n",
    "while condition < 10:\n",
    "    \n",
    "    print('Current condition:',str(condition))\n",
    "    \n",
    "    condition = condition + 1\n",
    "          "
   ]
  },
  {
   "cell_type": "markdown",
   "metadata": {},
   "source": [
    "This is the same as above but there is a difference in updating condition"
   ]
  },
  {
   "cell_type": "code",
   "execution_count": 3,
   "metadata": {},
   "outputs": [
    {
     "name": "stdout",
     "output_type": "stream",
     "text": [
      "Current condition: 2\n",
      "Current condition: 3\n",
      "Current condition: 4\n",
      "Current condition: 5\n",
      "Current condition: 6\n",
      "Current condition: 7\n",
      "Current condition: 8\n",
      "Current condition: 9\n"
     ]
    }
   ],
   "source": [
    "condition = 2\n",
    "\n",
    "while condition < 10:\n",
    "    \n",
    "    print('Current condition:',str(condition))\n",
    "    \n",
    "    condition +=1\n",
    "          "
   ]
  }
 ],
 "metadata": {
  "kernelspec": {
   "display_name": "Python 3",
   "language": "python",
   "name": "python3"
  },
  "language_info": {
   "codemirror_mode": {
    "name": "ipython",
    "version": 3
   },
   "file_extension": ".py",
   "mimetype": "text/x-python",
   "name": "python",
   "nbconvert_exporter": "python",
   "pygments_lexer": "ipython3",
   "version": "3.6.6"
  },
  "latex_envs": {
   "LaTeX_envs_menu_present": true,
   "autoclose": false,
   "autocomplete": true,
   "bibliofile": "biblio.bib",
   "cite_by": "apalike",
   "current_citInitial": 1,
   "eqLabelWithNumbers": true,
   "eqNumInitial": 1,
   "hotkeys": {
    "equation": "Ctrl-E",
    "itemize": "Ctrl-I"
   },
   "labels_anchors": false,
   "latex_user_defs": false,
   "report_style_numbering": false,
   "user_envs_cfg": false
  }
 },
 "nbformat": 4,
 "nbformat_minor": 2
}
