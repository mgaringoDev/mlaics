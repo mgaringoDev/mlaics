{
 "cells": [
  {
   "cell_type": "markdown",
   "metadata": {},
   "source": [
    "# General Steps of a Neural Net"
   ]
  },
  {
   "cell_type": "markdown",
   "metadata": {},
   "source": [
    "An entire neural net can be boiled down to the following steps\n",
    "\n",
    "- Forward propagate the inputs through the network\n",
    "- Compute error\n",
    "- Update the weights and biases and perform forward propagations and error computations\n",
    "- Repeat until desired number of iteration is achieved or the change in error is very small"
   ]
  },
  {
   "cell_type": "markdown",
   "metadata": {},
   "source": [
    "# Mathematical Derivations"
   ]
  },
  {
   "cell_type": "markdown",
   "metadata": {},
   "source": [
    "## Forward Propagations"
   ]
  },
  {
   "cell_type": "markdown",
   "metadata": {},
   "source": [
    "### Input Layer to the Hidden Layer : L1 - L2\n",
    "\n",
    "Where **$z^{(2)}$** is the **preactivation** of the synapse and **$a^{(2)}$** is the **activation**"
   ]
  },
  {
   "cell_type": "markdown",
   "metadata": {},
   "source": [
    "\\begin{align}\n",
    "z^{(2)} = XW^{(1)} + b^{(2)} \\\\\n",
    "\\end{align}\n",
    "\n",
    "\\begin{align}\n",
    "a^{(2)} &= \\sigma^{(2)}(z^{(2)}) \\\\\n",
    "&= \\tanh(z^{(2)})\n",
    "\\end{align}"
   ]
  },
  {
   "cell_type": "markdown",
   "metadata": {},
   "source": [
    "### Hidden Layer to Output Layer : L2 - L3\n",
    "\n",
    "Where **$z^{(3)}$** is the **preactivation** of the synapse and **$a^{(3)}$** is the **activation**"
   ]
  },
  {
   "cell_type": "markdown",
   "metadata": {},
   "source": [
    "\\begin{align}\n",
    "z^{(3)} = a^{(2)}W^{(2)} + b^{(3)} \\\\\n",
    "\\end{align}\n",
    "\n",
    "\\begin{align}\n",
    "a^{(3)} &= \\sigma^{(3)}(z^{(3)}) \\\\\n",
    "&= softmax(z^{(3)})\n",
    "\\end{align}"
   ]
  },
  {
   "cell_type": "markdown",
   "metadata": {},
   "source": [
    "Note that **$a^{(3)}$** is also the output of the NN which we can denote as **$\\hat{y}$**"
   ]
  },
  {
   "cell_type": "markdown",
   "metadata": {},
   "source": [
    "\\begin{align}\n",
    "a^{(3)} = \\hat{y} = softmax(z^{(3)})\\\\\n",
    "\\end{align}"
   ]
  },
  {
   "cell_type": "markdown",
   "metadata": {},
   "source": [
    "## Back Propagations"
   ]
  },
  {
   "cell_type": "markdown",
   "metadata": {},
   "source": [
    "References:\n",
    "- [Notes on Backpropagation](https://www.ics.uci.edu/~pjsadows/notes.pdf)\n",
    "- [Machine Learning Cheat Sheet](https://ml-cheatsheet.readthedocs.io/en/latest/backpropagation.html#applying-the-chain-rule)\n",
    "- [NN Softmax Activation](https://stats.stackexchange.com/questions/273465/neural-network-softmax-activation)\n",
    "- [Backpropagation - softmac derivative](https://datascience.stackexchange.com/questions/32949/backpropagation-softmax-derivative)\n",
    "- [DeepNotes](https://deepnotes.io/softmax-crossentropy)\n",
    "- [Derivative of Softmax without cross entropy](https://math.stackexchange.com/questions/2843505/derivative-of-softmax-without-cross-entropy)\n",
    "- [The softmax function and its derivative](https://eli.thegreenplace.net/2016/the-softmax-function-and-its-derivative/)\n",
    "- [ML from scratch](http://www.wildml.com/2015/09/implementing-a-neural-network-from-scratch/)\n",
    "- [Backpropagation with Softmax / Cross Entropy](https://stats.stackexchange.com/questions/235528/backpropagation-with-softmax-cross-entropy)\n",
    "- [Derivative of Softmax loss function](https://math.stackexchange.com/questions/945871/derivative-of-softmax-loss-function)\n",
    "- [How to implement softmax derivative](https://medium.com/@aerinykim/how-to-implement-the-softmax-derivative-independently-from-any-loss-function-ae6d44363a9d)"
   ]
  },
  {
   "cell_type": "markdown",
   "metadata": {},
   "source": [
    "### Update $W^{(2)}$"
   ]
  },
  {
   "cell_type": "markdown",
   "metadata": {},
   "source": [
    "We know that the output is just one giant equation which can be expressed as:"
   ]
  },
  {
   "cell_type": "markdown",
   "metadata": {},
   "source": [
    "let C(x) be the cost function\n",
    "\\begin{align}\n",
    "cost = C(\\sigma^{(3)}(Z^{(3)}(a^{(3)}W^{(2)})))\n",
    "\\end{align}"
   ]
  },
  {
   "cell_type": "markdown",
   "metadata": {},
   "source": [
    "To identify the derivative w.r.t $W^{(2)}$ we can perform the chain rule which leads to the following expression:"
   ]
  },
  {
   "cell_type": "markdown",
   "metadata": {},
   "source": [
    "\\begin{align}\n",
    "cost = [C′(\\hat{y})][\\sigma^{(2)}′(z^{(3)})][Z′(W^{(2)})]\n",
    "\\end{align}"
   ]
  },
  {
   "cell_type": "markdown",
   "metadata": {},
   "source": [
    "Based on the above equation it is now very easy to see how we can take the partial derivative of the cost function with respect to $W^{(2)}$ leading to the expression:"
   ]
  },
  {
   "cell_type": "markdown",
   "metadata": {},
   "source": [
    "\\begin{align}\n",
    "\\frac{\\partial C}{\\partial W^{(2)}} = \n",
    "\\frac{\\partial C}{\\partial \\hat{y}}  \n",
    "\\frac{\\partial \\hat{y}}{\\partial z^{(3)}}  \n",
    "\\frac{\\partial z^{(3)}}{\\partial W^{(2)}}\n",
    "\\end{align}"
   ]
  },
  {
   "cell_type": "markdown",
   "metadata": {},
   "source": [
    "Now we have three terms we can look at independently."
   ]
  },
  {
   "cell_type": "markdown",
   "metadata": {},
   "source": [
    "1. The first term looks at the partial derivative of the cost function **negative log likelihood** w.r.t to  $\\hat{y}$ "
   ]
  },
  {
   "cell_type": "markdown",
   "metadata": {},
   "source": [
    "\\begin{align}\n",
    "\\frac{\\partial C}{\\partial \\hat{y}}  = \n",
    "\\frac{\\partial }{\\partial \\hat{y}}\\big[ -\\sum_{j}y_jlog(\\hat{y}_j)\\big]\\\\\n",
    "\\frac{\\partial C}{\\partial \\hat{y}}  = \n",
    "y_j\\frac{\\partial }{\\partial \\hat{y}}\\big[ \\sum_{j}log(\\hat{y}_j)\\big]\\\\\n",
    "\\frac{\\partial C}{\\partial \\hat{y}}  = \n",
    "\\frac{y_j }{\\hat{y}_j}\\\\\n",
    "\\end{align}"
   ]
  },
  {
   "cell_type": "markdown",
   "metadata": {},
   "source": [
    "2. The second term is essentially the derivative of the activation function of the output layer w.r.t $z^{(3)}$.  Note that the activation function is given to **softmax** which is expressed as:"
   ]
  },
  {
   "cell_type": "markdown",
   "metadata": {},
   "source": [
    "\\begin{align}\n",
    "softmax(z) = \\frac{e^{z_i}}{\\sum_{k=1}^N e^z_k}\n",
    "\\end{align}"
   ]
  },
  {
   "cell_type": "markdown",
   "metadata": {},
   "source": [
    "Therefore we can express the second term as:"
   ]
  },
  {
   "cell_type": "markdown",
   "metadata": {},
   "source": [
    "\\begin{align}\n",
    "\\frac{\\partial \\hat{y}}{\\partial z^{(3)}}   = \\frac{\\partial softmax}{\\partial z^{(3)}}  = \n",
    "\\frac{\\partial }{\\partial z^{(3)}}\\frac{e^{z_i}}{\\sum_{k=1}^N e^z_k}\n",
    "\\end{align}"
   ]
  },
  {
   "cell_type": "markdown",
   "metadata": {},
   "source": [
    "where $j^{th}$ index of $k^{th}$ output"
   ]
  },
  {
   "cell_type": "markdown",
   "metadata": {},
   "source": [
    "If we use the quotient rule, where the derivative of $f(x) = \\frac{g(x)}{h(x)}$ is $f^\\prime(x) = \\frac{ g\\prime(x)h(x) - h\\prime(x)g(x)}{h(x)^2}$ we get"
   ]
  },
  {
   "cell_type": "markdown",
   "metadata": {},
   "source": [
    "If j = k"
   ]
  },
  {
   "cell_type": "markdown",
   "metadata": {},
   "source": [
    "\\begin{align}\n",
    "\\frac{\\partial  \\frac{e^{z^{(3)}}}{\\sum_{k=1}^N e^{z_k}}}{\\partial z^{(3)}}&= \\frac{e^{z^{(3)}} \\sum_{k=1}^N e^{z_k} - e^{z^{(3)}}e^{z^{(3)}}}{\\left( \\sum_{k=1}^N e^{z_k}\\right)^2} \\\\\n",
    "&= \\frac{e^{z^{(3)}} \\left( \\sum_{k=1}^N e^{z_k} - e^{z^{(3)}}\\right )}{\\left( \\sum_{k=1}^N e^{z_k}\\right)^2} \\\\\n",
    "&= \\frac{ e^{z^{(3)}} }{\\sum_{k=1}^N e^{z_k} } \\times \\frac{\\left( \\sum_{k=1}^N e^{z_k} - e^{z^{(3)}}\\right ) }{\\sum_{k=1}^N e^{z_k} } \\\\\n",
    "&= \\hat{y}(1-\\hat{y})\n",
    "\\end{align}"
   ]
  },
  {
   "cell_type": "markdown",
   "metadata": {},
   "source": [
    "If j!=k"
   ]
  },
  {
   "cell_type": "markdown",
   "metadata": {},
   "source": [
    "\\begin{align}\n",
    "\\frac{\\partial  \\frac{e^{z^{(3)}}}{\\sum_{k=1}^N e^{a_k}}}{\\partial z^{(3)}}&= \\frac{0 - e^{z^{(3)}}e^{z^{(3)}}}{\\left( \\sum_{k=1}^N e^{a_k}\\right)^2} \\\\\n",
    "&= \\frac{- e^{z^{(3)}} }{\\sum_{k=1}^N e^{a_k} } \\times \\frac{e^{z^{(3)}} }{\\sum_{k=1}^N e^{a_k} } \\\\\n",
    "&= - \\hat{y}^2\n",
    "\\end{align}"
   ]
  },
  {
   "cell_type": "markdown",
   "metadata": {},
   "source": [
    "Note that this will work but we can simplify the first two derivatives i.e. in general terms we can look at the cost function as it relates the the activation function. \n",
    "\n",
    "OR we can simultaneously look at the negative log likelihood of the softmax activation function as it relates to the activity in the output layer."
   ]
  },
  {
   "cell_type": "markdown",
   "metadata": {},
   "source": [
    "% \n",
    "\\begin{align}\n",
    "L &= - \\sum_i y_i log(p_i) \\\\\n",
    "\\frac{\\partial L}{\\partial o_i} &= - \\sum_k y_k \\frac{\\partial log(p_k)}{\\partial o_i } \\\\\n",
    "&= - \\sum_k y_k \\frac{\\partial log(p_k)}{\\partial p_k} \\times \\frac{\\partial p_k}{ \\partial o_i} \\\\\n",
    "&= - \\sum y_k \\frac{1}{p_k} \\times \\frac{\\partial p_k}{\\partial o_i} \\\\\n",
    "\\end{align}"
   ]
  },
  {
   "cell_type": "markdown",
   "metadata": {},
   "source": [
    "From the derivatives of the softmax we get"
   ]
  },
  {
   "cell_type": "markdown",
   "metadata": {},
   "source": [
    "\\begin{align}\n",
    "\\frac{\\partial L}{\\partial o_i}  &= -y_i(1-p_i) - \\sum_{k\\neq i} y_k \\frac{1}{p_k}(-p_k.p_i) \\\\\n",
    "&= -y_i(1-p_i) + \\sum_{k \\neq 1} y_k.p_i \\\\\n",
    "&= - y_i + y_ip_i + \\sum_{k \\neq 1} y_k.p_i \\\\\n",
    "&= p_i\\left( y_i +  \\sum_{k \\neq 1} y_k\\right) - y_i \\\\\n",
    "&= p_i\\left( y_i +  \\sum_{k \\neq 1} y_k\\right)  - y_i\n",
    "\\end{align} "
   ]
  },
  {
   "cell_type": "markdown",
   "metadata": {},
   "source": [
    "Now note that y should be a [hot encoded vector](https://machinelearningmastery.com/why-one-hot-encode-data-in-machine-learning/) for the labels and so we can simplify the equation as:"
   ]
  },
  {
   "cell_type": "markdown",
   "metadata": {},
   "source": [
    "\\begin{align}\n",
    "\\frac{\\partial L}{\\partial o_i} = p_i - y_i\\\\\n",
    "\\frac{\\partial C}{\\partial z^{(3)}} = \\hat{y} - y\n",
    "\\end{align}"
   ]
  },
  {
   "cell_type": "markdown",
   "metadata": {},
   "source": [
    "Because the hot encoded vector $\\sum_k y_k = 1$ and $y_i +  \\sum_{k \\neq 1} y_k = 1$"
   ]
  },
  {
   "cell_type": "markdown",
   "metadata": {},
   "source": [
    "3. The final layer is just a linear relationship between the pre-activation and the weights and the slope of this linear relatinship is simply the activity in the hidden layer. Therefore we can express the final term as"
   ]
  },
  {
   "cell_type": "markdown",
   "metadata": {},
   "source": [
    "\\begin{align}\n",
    "\\frac{\\partial z^{(3)}}{\\partial W^{(2)}} = a^{(2)}\n",
    "\\end{align}"
   ]
  },
  {
   "cell_type": "markdown",
   "metadata": {},
   "source": [
    "The final expression for the update is:"
   ]
  },
  {
   "cell_type": "markdown",
   "metadata": {},
   "source": [
    "\\begin{align}\n",
    "\\frac{\\partial C}{\\partial W^{(2)}} = \\big[\\hat{y} - y\\big]a^{(2)}\n",
    "\\end{align}\n",
    "\n",
    "\\begin{align}\n",
    "OR\n",
    "\\end{align}\n",
    "\n",
    "\\begin{align}\n",
    "\\frac{\\partial C}{\\partial W^{(2)}} &= \\big[\\frac{\\partial C}{\\partial \\hat{y}}  \\big] \\big[\\frac{\\partial \\hat{y}}{\\partial z^{(3)}}  \\big] \\big[\\frac{\\partial z^{(3)}}{\\partial W^{(2)}}\\big]\\\\\n",
    "&= \\big[\\frac{y}{\\hat{y}}\\big]\\big[\\hat{y}(1-\\hat{y})\\big]\\big[a^{(2)}\\big]\n",
    "\\end{align}"
   ]
  },
  {
   "cell_type": "markdown",
   "metadata": {},
   "source": [
    "Therefore, there are two ways of implementing the update for the second set of weights using either equation 35 or equation 38. Note that $\\big[\\frac{\\partial C}{\\partial \\hat{y}}  \\big] \\big[\\frac{\\partial \\hat{y}}{\\partial z^{(3)}}  \\big] $ is sometimes refered to as **the backpropagating error or $\\delta^{(2)}$** meaning that we can reduce the above equations to:"
   ]
  },
  {
   "cell_type": "markdown",
   "metadata": {},
   "source": [
    "\\begin{align}\n",
    "\\frac{\\partial C}{\\partial z^{(3)}} = \\big[\\delta^{(3)}\\big]a^{(2)}\\\\\n",
    "\\end{align}"
   ]
  },
  {
   "cell_type": "markdown",
   "metadata": {},
   "source": [
    "And because we know that we have perform a summation we can simplify this even more to"
   ]
  },
  {
   "cell_type": "markdown",
   "metadata": {},
   "source": [
    "\\begin{align}\n",
    "\\frac{\\partial C}{\\partial W^{(2)}} = a^{(2)T}\\bullet\\big[\\delta^{(3)}\\big]\\\\\n",
    "\\end{align}"
   ]
  },
  {
   "cell_type": "markdown",
   "metadata": {},
   "source": [
    "### Update $b^{(3)}$"
   ]
  },
  {
   "cell_type": "markdown",
   "metadata": {},
   "source": [
    "We can derive this by the same analytical reasoning as above."
   ]
  },
  {
   "cell_type": "markdown",
   "metadata": {},
   "source": [
    "\\begin{align}\n",
    "\\frac{\\partial C}{\\partial b^{(3)}} = \n",
    "\\frac{\\partial C}{\\partial z^{(3)}}  \n",
    "\\frac{\\partial z^{(3)}}{\\partial b^{(3)}}  \n",
    "\\end{align}"
   ]
  },
  {
   "cell_type": "markdown",
   "metadata": {},
   "source": [
    "We know the first term is just the backpropagating error or $\\delta^{(2)}$ and the second term is just 1 because deriving the preactivation function w.r.t to b will just give you 1.  The update value would just be"
   ]
  },
  {
   "cell_type": "markdown",
   "metadata": {},
   "source": [
    "\\begin{align}\n",
    "\\frac{\\partial C}{\\partial b^{(3)}} = \\delta^{(3)}\n",
    "\\end{align}"
   ]
  },
  {
   "cell_type": "markdown",
   "metadata": {},
   "source": [
    "### Update $W^{(1)}$"
   ]
  },
  {
   "cell_type": "markdown",
   "metadata": {},
   "source": [
    "Performing the same analytical reasoning to we can represent $W^{(1)}$ in terms of cost function C(x) as:"
   ]
  },
  {
   "cell_type": "markdown",
   "metadata": {},
   "source": [
    "\\begin{align}\n",
    "\\frac{\\partial C}{\\partial W^{(1)}} = \n",
    "\\frac{\\partial C}{\\partial \\hat{y}}  \n",
    "\\frac{\\partial \\hat{y}}{\\partial z^{(3)}}  \n",
    "\\frac{\\partial z^{(3)}}{\\partial \\sigma^{(2)}}\n",
    "\\frac{\\partial \\sigma^{(2)}}{\\partial a^{(2)}}\n",
    "\\frac{\\partial a^{(2)}}{\\partial W^{(1)}}\n",
    "\\end{align}"
   ]
  },
  {
   "cell_type": "markdown",
   "metadata": {},
   "source": [
    "From the previous layet we know that the first two terms is just the propagration error of the previous layer."
   ]
  },
  {
   "cell_type": "markdown",
   "metadata": {},
   "source": [
    "\\begin{align}\n",
    "\\frac{\\partial C}{\\partial \\hat{y}}  \n",
    "\\frac{\\partial \\hat{y}}{\\partial z^{(3)}}  = \\delta^{(3)}\n",
    "\\end{align}"
   ]
  },
  {
   "cell_type": "markdown",
   "metadata": {},
   "source": [
    "There third and forth terms are just the derivative of the forward propagation at that layer.  Which is the weight times the derivative of the activation function at that layer with respect to the activation."
   ]
  },
  {
   "cell_type": "markdown",
   "metadata": {},
   "source": [
    "\\begin{align}\n",
    "\\frac{\\partial z^{(3)}}{\\partial \\sigma^{(2)}} = W^{(2)}\\\\\n",
    "\\end{align}\n",
    "\n",
    "\\begin{align}\n",
    "\\frac{\\partial \\sigma^{(2)}}{\\partial a^{(2)}} &= \\sigma\\prime^{(2)}(a^{(2)})\\\\\n",
    "&= (1-tanh^2(a^{(2)}))\n",
    "\\end{align}\n"
   ]
  },
  {
   "cell_type": "markdown",
   "metadata": {},
   "source": [
    "Finally the last term is just a linear relationship of the pre-activation of the hidden layer which is just the activation on the input layer."
   ]
  },
  {
   "cell_type": "markdown",
   "metadata": {},
   "source": [
    "\\begin{align}\n",
    "\\frac{\\partial a^{(2)}}{\\partial W^{(1)}} = X\n",
    "\\end{align}"
   ]
  },
  {
   "cell_type": "markdown",
   "metadata": {},
   "source": [
    "Therefore, the final update term is given by the equation"
   ]
  },
  {
   "cell_type": "markdown",
   "metadata": {},
   "source": [
    "\\begin{align}\n",
    "\\frac{\\partial C}{\\partial W^{(1)}} = \n",
    "\\big[\\delta^{(3)}\\big]\n",
    "\\big[ W^{(2)}\\big]\n",
    "\\big[(1-tanh^2(a^{(2)}))\\big]\n",
    "\\big[X\\big]\n",
    "\\end{align}"
   ]
  },
  {
   "cell_type": "markdown",
   "metadata": {},
   "source": [
    "And because we have to perform a summation we can transpose W and X and perform the dot product using the following equation"
   ]
  },
  {
   "cell_type": "markdown",
   "metadata": {},
   "source": [
    "\\begin{align}\n",
    "\\frac{\\partial C}{\\partial W^{(1)}} = \n",
    "\\big[X^T\\big] \\bullet \n",
    "\\big[\\big[\\delta^{(3)}\\big]\\bullet\n",
    "\\big[ W^{(2)T}\\big]\n",
    "\\big[(1-tanh^2(a^{(2)}))\\big]\\big]\n",
    "\\end{align}"
   ]
  },
  {
   "cell_type": "markdown",
   "metadata": {},
   "source": [
    "Similar to the $W^{(2)}$ we can express the propagation error as"
   ]
  },
  {
   "cell_type": "markdown",
   "metadata": {},
   "source": [
    "\\begin{align}\n",
    "\\delta^{(2)} &= \n",
    "\\frac{\\partial C}{\\partial \\hat{y}}  \n",
    "\\frac{\\partial \\hat{y}}{\\partial z^{(3)}}  \n",
    "\\frac{\\partial z^{(3)}}{\\partial \\sigma^{(2)}}\n",
    "\\frac{\\partial \\sigma^{(2)}}{\\partial a^{(2)}}\\\\\n",
    "&=\\big[\\big[\\delta^{(3)}\\big]\\bullet\n",
    "\\big[ W^{(2)T}\\big]\n",
    "\\big[(1-tanh^2(a^{(2)}))\\big]\\big]\n",
    "\\end{align}"
   ]
  },
  {
   "cell_type": "markdown",
   "metadata": {},
   "source": [
    "Simplifying equation 48 to"
   ]
  },
  {
   "cell_type": "markdown",
   "metadata": {},
   "source": [
    "\\begin{align}\n",
    "\\frac{\\partial C}{\\partial W^{(1)}} = \n",
    "X^T \\bullet\n",
    "\\delta^{(2)}\n",
    "\\end{align}"
   ]
  },
  {
   "cell_type": "markdown",
   "metadata": {},
   "source": [
    "### Updating $b^{(2)}$"
   ]
  },
  {
   "cell_type": "markdown",
   "metadata": {},
   "source": [
    "From the previous reasoning of b^{(3)} we can say "
   ]
  },
  {
   "cell_type": "markdown",
   "metadata": {},
   "source": [
    "\\begin{align}\n",
    "\\frac{\\partial C}{\\partial b^{(2)}} = \\delta^{(2)}\n",
    "\\end{align}"
   ]
  },
  {
   "cell_type": "markdown",
   "metadata": {},
   "source": [
    "### Final Update Equations"
   ]
  },
  {
   "cell_type": "markdown",
   "metadata": {},
   "source": [
    "\\begin{align}\n",
    "W^{(2)} = W^{(2)}_{old} - learningrate * \\frac{\\partial C}{\\partial W^{(2)}}\\\\\n",
    "b^{(3)} = b^{(3)}_{old} - learningrate * \\frac{\\partial C}{\\partial b^{(3)}}\\\\\n",
    "W^{(1)} = W^{(1)}_{old} - learningrate * \\frac{\\partial C}{\\partial W^{(1)}}\\\\\n",
    "b^{(2)} = b^{(2)}_{old} - learningrate * \\frac{\\partial C}{\\partial b^{(2)}}\n",
    "\\end{align}"
   ]
  }
 ],
 "metadata": {
  "kernelspec": {
   "display_name": "mlPlaygroundPy36",
   "language": "python",
   "name": "mlplaygroundpy36"
  },
  "language_info": {
   "codemirror_mode": {
    "name": "ipython",
    "version": 3
   },
   "file_extension": ".py",
   "mimetype": "text/x-python",
   "name": "python",
   "nbconvert_exporter": "python",
   "pygments_lexer": "ipython3",
   "version": "3.6.6"
  },
  "latex_envs": {
   "LaTeX_envs_menu_present": true,
   "autoclose": false,
   "autocomplete": true,
   "bibliofile": "biblio.bib",
   "cite_by": "apalike",
   "current_citInitial": 1,
   "eqLabelWithNumbers": true,
   "eqNumInitial": 1,
   "hotkeys": {
    "equation": "Ctrl-E",
    "itemize": "Ctrl-I"
   },
   "labels_anchors": false,
   "latex_user_defs": false,
   "report_style_numbering": false,
   "user_envs_cfg": false
  }
 },
 "nbformat": 4,
 "nbformat_minor": 2
}
