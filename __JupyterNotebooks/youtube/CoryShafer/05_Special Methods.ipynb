{
 "cells": [
  {
   "cell_type": "markdown",
   "metadata": {},
   "source": [
    "---\n",
    "title: Special Methods\n",
    "tags: [jupyter]\n",
    "keywords: course, youtube, coryShafer\n",
    "summary: \"Special methods such as magic and dunder methods.\"\n",
    "sidebar: youtube_sidebar\n",
    "permalink: __AutoGenThis__\n",
    "notebookfilename:  __AutoGenThis__\n",
    "---"
   ]
  },
  {
   "cell_type": "markdown",
   "metadata": {},
   "source": [
    "Check the following youtube video\n",
    "\n",
    "- [Python OOP Tutorial 1: Classes and Instances](https://www.youtube.com/watch?v=ZDa-Z5JzLYM)\n",
    "- [Python OOP Tutorial 2: Class Variables](https://www.youtube.com/watch?v=BJ-VvGyQxho)\n",
    "- [Python OOP Tutorial 3: classmethods and staticmethods](https://www.youtube.com/watch?v=rq8cL2XMM5M)\n",
    "- [Python OOP Tutorial 4: Inheritance - Creating Subclasses](https://www.youtube.com/watch?v=RSl87lqOXDE)\n",
    "- [Python OOP Tutorial 5: Special (Magic/Dunder) Methods](https://www.youtube.com/watch?v=3ohzBxoFHAY)"
   ]
  },
  {
   "cell_type": "markdown",
   "metadata": {},
   "source": [
    "# Classes"
   ]
  },
  {
   "cell_type": "markdown",
   "metadata": {},
   "source": [
    "Creating different types of employees\n",
    "\n",
    "Developer and Manager classes"
   ]
  },
  {
   "cell_type": "markdown",
   "metadata": {},
   "source": [
    "## Employee Class"
   ]
  },
  {
   "cell_type": "code",
   "execution_count": 2,
   "metadata": {},
   "outputs": [],
   "source": [
    "class Employee:\n",
    "    \n",
    "    #Class variables\n",
    "    raiseAmount = 1.04\n",
    "    \n",
    "    # this is like a constructor for the class\n",
    "    def __init__(self,first='first',last='last',pay=0):\n",
    "        self.first = first\n",
    "        self.last = last\n",
    "        self.email = first+'.'+last+'@company.com'\n",
    "        self.pay = pay\n",
    "    \n",
    "    # method of the class\n",
    "    # if we remove self then we get a type error because takes 0 positional argument but 1 was given\n",
    "    # the instance gets passed automatically so you need to add self\n",
    "    def fullName(self):\n",
    "        return self.first + ' ' + self.last\n",
    "    \n",
    "    def applyRaise(self):\n",
    "        self.pay = int(self.pay*self.raiseAmount)\n",
    "    \n",
    "    #seen by the developer and logging purposes\n",
    "    def __repr__(self):\n",
    "        return \"Employee('{}','{}','{}')\".format(self.first,self.last,self.pay)\n",
    "    \n",
    "    #seen by the user\n",
    "    def __str__(self):\n",
    "        return '{} - {}'\n",
    "        "
   ]
  },
  {
   "cell_type": "markdown",
   "metadata": {},
   "source": [
    "These are instances.  They are unique for each instance variable"
   ]
  },
  {
   "cell_type": "code",
   "execution_count": null,
   "metadata": {},
   "outputs": [],
   "source": []
  },
  {
   "cell_type": "code",
   "execution_count": null,
   "metadata": {},
   "outputs": [],
   "source": []
  },
  {
   "cell_type": "markdown",
   "metadata": {},
   "source": [
    "# Main"
   ]
  },
  {
   "cell_type": "code",
   "execution_count": 4,
   "metadata": {},
   "outputs": [],
   "source": [
    "emp1 = Employee(first='Core',\n",
    "               last='Rae',\n",
    "               pay=5000)\n",
    "emp2 = Employee(first='Test',\n",
    "               last='User',\n",
    "               pay=6000)"
   ]
  },
  {
   "cell_type": "code",
   "execution_count": 5,
   "metadata": {},
   "outputs": [
    {
     "data": {
      "text/plain": [
       "\"Employee('Core','Rae','5000')\""
      ]
     },
     "execution_count": 5,
     "metadata": {},
     "output_type": "execute_result"
    }
   ],
   "source": [
    "repr(emp1)"
   ]
  }
 ],
 "metadata": {
  "kernelspec": {
   "display_name": "Python 3",
   "language": "python",
   "name": "python3"
  },
  "language_info": {
   "codemirror_mode": {
    "name": "ipython",
    "version": 3
   },
   "file_extension": ".py",
   "mimetype": "text/x-python",
   "name": "python",
   "nbconvert_exporter": "python",
   "pygments_lexer": "ipython3",
   "version": "3.6.6"
  },
  "latex_envs": {
   "LaTeX_envs_menu_present": true,
   "autoclose": false,
   "autocomplete": true,
   "bibliofile": "biblio.bib",
   "cite_by": "apalike",
   "current_citInitial": 1,
   "eqLabelWithNumbers": true,
   "eqNumInitial": 1,
   "hotkeys": {
    "equation": "Ctrl-E",
    "itemize": "Ctrl-I"
   },
   "labels_anchors": false,
   "latex_user_defs": false,
   "report_style_numbering": false,
   "user_envs_cfg": false
  }
 },
 "nbformat": 4,
 "nbformat_minor": 4
}
