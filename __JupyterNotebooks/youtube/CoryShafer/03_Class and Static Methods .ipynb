{
 "cells": [
  {
   "cell_type": "markdown",
   "metadata": {},
   "source": [
    "---\n",
    "title: Class and Static Methods\n",
    "tags: [jupyter]\n",
    "keywords: course, youtube, coryShafer\n",
    "summary: \"Static methods inside classes.\"\n",
    "sidebar: youtube_sidebar\n",
    "permalink: __AutoGenThis__\n",
    "notebookfilename:  __AutoGenThis__\n",
    "---"
   ]
  },
  {
   "cell_type": "markdown",
   "metadata": {},
   "source": [
    "Check the following youtube video\n",
    "\n",
    "- [Python OOP Tutorial 1: Classes and Instances](https://www.youtube.com/watch?v=ZDa-Z5JzLYM)\n",
    "- [Python OOP Tutorial 2: Class Variables](https://www.youtube.com/watch?v=BJ-VvGyQxho)\n",
    "- [Python OOP Tutorial 3: classmethods and staticmethods](https://www.youtube.com/watch?v=rq8cL2XMM5M)"
   ]
  },
  {
   "cell_type": "markdown",
   "metadata": {},
   "source": [
    "# Classes"
   ]
  },
  {
   "cell_type": "markdown",
   "metadata": {},
   "source": [
    "## Class Methods"
   ]
  },
  {
   "cell_type": "markdown",
   "metadata": {},
   "source": [
    "Since they take in class themselves they actually just act like regular functions but also has attributes associated with the class it self.  So logically you can group them in such a way that they form some sort of logical sense being part of the class"
   ]
  },
  {
   "cell_type": "markdown",
   "metadata": {},
   "source": [
    "## Static Methods"
   ]
  },
  {
   "cell_type": "markdown",
   "metadata": {},
   "source": [
    "They don't take the instance or class so create these if and only if they don't depend on any other instances or class."
   ]
  },
  {
   "cell_type": "markdown",
   "metadata": {},
   "source": [
    "## Employee Class"
   ]
  },
  {
   "cell_type": "code",
   "execution_count": 18,
   "metadata": {},
   "outputs": [],
   "source": [
    "class Employee:\n",
    "    \n",
    "    #Class variables\n",
    "    raiseAmount = 1.04\n",
    "    \n",
    "    # this is like a constructor for the class\n",
    "    def __init__(self,first='first',last='last',pay=0):\n",
    "        self.first = first\n",
    "        self.last = last\n",
    "        self.email = first+'.'+last+'@company.com'\n",
    "        self.pay = pay\n",
    "    \n",
    "    # method of the class\n",
    "    # if we remove self then we get a type error because takes 0 positional argument but 1 was given\n",
    "    # the instance gets passed automatically so you need to add self\n",
    "    def fullName(self):\n",
    "        return self.first + ' ' + self.last\n",
    "    \n",
    "    def applyRaise(self):\n",
    "        self.pay = int(self.pay*self.raiseAmount)\n",
    "    \n",
    "    \n",
    "    # method is receiving the class instead of instance\n",
    "    # you are working with the class instead of the instance\n",
    "    @classmethod\n",
    "    def setRaiseAmount(cls,amount=0):\n",
    "        cls.raiseAmount = amount\n",
    "    \n",
    "    # alternative constructor\n",
    "    @classmethod\n",
    "    def fromString(cls,empString):\n",
    "        first, last, pay = empString.split('-')\n",
    "        newObject = cls(first,last,pay)\n",
    "        return cls(first,last,pay)\n",
    "    \n",
    "    @staticmethod\n",
    "    # they don't take the instance or class\n",
    "    # so create these if and only if they don't depend on any other instances or class\n",
    "    def isWorkDay(day):\n",
    "        # monday = 0 and sunday = 6\n",
    "        if (day.weekday() == 5 or day.weekday()==6):\n",
    "            return False\n",
    "        return True\n",
    "        "
   ]
  },
  {
   "cell_type": "markdown",
   "metadata": {},
   "source": [
    "These are instances.  They are unique for each instance variable"
   ]
  },
  {
   "cell_type": "code",
   "execution_count": 11,
   "metadata": {},
   "outputs": [],
   "source": [
    "emp1 = Employee(first='Core',\n",
    "               last='Rae',\n",
    "               pay=5000)\n",
    "emp2 = Employee(first='Test',\n",
    "               last='User',\n",
    "               pay=6000)"
   ]
  },
  {
   "cell_type": "code",
   "execution_count": 12,
   "metadata": {},
   "outputs": [
    {
     "name": "stdout",
     "output_type": "stream",
     "text": [
      "1.04\n",
      "1.04\n",
      "1.04\n"
     ]
    }
   ],
   "source": [
    "print(Employee.raiseAmount)\n",
    "print(emp1.raiseAmount)\n",
    "print(emp2.raiseAmount)"
   ]
  },
  {
   "cell_type": "markdown",
   "metadata": {},
   "source": [
    "Now all the methods with the class now have the value 1.05"
   ]
  },
  {
   "cell_type": "code",
   "execution_count": 13,
   "metadata": {},
   "outputs": [],
   "source": [
    "Employee.setRaiseAmount(amount=1.05)"
   ]
  },
  {
   "cell_type": "code",
   "execution_count": 14,
   "metadata": {},
   "outputs": [
    {
     "name": "stdout",
     "output_type": "stream",
     "text": [
      "1.05\n",
      "1.05\n",
      "1.05\n"
     ]
    }
   ],
   "source": [
    "print(Employee.raiseAmount)\n",
    "print(emp1.raiseAmount)\n",
    "print(emp2.raiseAmount)"
   ]
  },
  {
   "cell_type": "markdown",
   "metadata": {},
   "source": [
    "# Alternative Constructor"
   ]
  },
  {
   "cell_type": "markdown",
   "metadata": {},
   "source": [
    "Lets say that you have someone having strings as input to the class, we can either parse the string and create the instance **OR** we can simply create an **alternative constructor** to take in the string parse it and create a class instance and return that instance"
   ]
  },
  {
   "cell_type": "code",
   "execution_count": 15,
   "metadata": {},
   "outputs": [],
   "source": [
    "empString1 = 'John-Doe-7000'\n",
    "empString2 = 'Johnny-Dolle-7000'\n",
    "empString3 = 'Jone-Doil-7000'"
   ]
  },
  {
   "cell_type": "code",
   "execution_count": 16,
   "metadata": {},
   "outputs": [],
   "source": [
    "newEmp1 = Employee.fromString(empString1)"
   ]
  },
  {
   "cell_type": "code",
   "execution_count": 17,
   "metadata": {},
   "outputs": [
    {
     "name": "stdout",
     "output_type": "stream",
     "text": [
      "John Doe\n"
     ]
    }
   ],
   "source": [
    "print(newEmp1.fullName())"
   ]
  },
  {
   "cell_type": "markdown",
   "metadata": {},
   "source": [
    "# Static Example"
   ]
  },
  {
   "cell_type": "code",
   "execution_count": 23,
   "metadata": {},
   "outputs": [],
   "source": [
    "import datetime "
   ]
  },
  {
   "cell_type": "code",
   "execution_count": null,
   "metadata": {},
   "outputs": [],
   "source": [
    "datetime."
   ]
  },
  {
   "cell_type": "code",
   "execution_count": 25,
   "metadata": {},
   "outputs": [],
   "source": [
    "currDate = datetime.date(2020,4,7)"
   ]
  },
  {
   "cell_type": "code",
   "execution_count": 26,
   "metadata": {},
   "outputs": [
    {
     "name": "stdout",
     "output_type": "stream",
     "text": [
      "True\n"
     ]
    }
   ],
   "source": [
    "print(Employee.isWorkDay(currDate))"
   ]
  }
 ],
 "metadata": {
  "kernelspec": {
   "display_name": "Python 3",
   "language": "python",
   "name": "python3"
  },
  "language_info": {
   "codemirror_mode": {
    "name": "ipython",
    "version": 3
   },
   "file_extension": ".py",
   "mimetype": "text/x-python",
   "name": "python",
   "nbconvert_exporter": "python",
   "pygments_lexer": "ipython3",
   "version": "3.6.6"
  },
  "latex_envs": {
   "LaTeX_envs_menu_present": true,
   "autoclose": false,
   "autocomplete": true,
   "bibliofile": "biblio.bib",
   "cite_by": "apalike",
   "current_citInitial": 1,
   "eqLabelWithNumbers": true,
   "eqNumInitial": 1,
   "hotkeys": {
    "equation": "Ctrl-E",
    "itemize": "Ctrl-I"
   },
   "labels_anchors": false,
   "latex_user_defs": false,
   "report_style_numbering": false,
   "user_envs_cfg": false
  }
 },
 "nbformat": 4,
 "nbformat_minor": 4
}
